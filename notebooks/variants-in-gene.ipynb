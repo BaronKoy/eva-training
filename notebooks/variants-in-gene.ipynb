{
 "cells": [
  {
   "cell_type": "markdown",
   "id": "032235a5",
   "metadata": {},
   "source": [
    "## Getting the consequences of variants in a gene\n",
    "\n",
    "Suppose you have a gene of interest (e.g. `APOE` in humans) and you're interested in finding variants on that gene in the EVA. In particular, you want to know about variants with non-synonymous consequences, which can affect the protein product of the gene. This notebook will walk you through how to get that data using the EVA API (with an assist from Ensembl).\n",
    "\n",
    "For reference, here is the documentation for all the APIs we will use:\n",
    "\n",
    "* [Ensembl API](https://rest.ensembl.org/)\n",
    "* [EVA Variant Info API](https://www.ebi.ac.uk/eva/webservices/rest/swagger-ui.html)"
   ]
  },
  {
   "cell_type": "code",
   "execution_count": 1,
   "id": "ee2c1fff",
   "metadata": {},
   "outputs": [],
   "source": [
    "import matplotlib.pyplot as plt\n",
    "import numpy as np\n",
    "import requests"
   ]
  },
  {
   "cell_type": "code",
   "execution_count": 2,
   "id": "16d30145",
   "metadata": {},
   "outputs": [],
   "source": [
    "gene_name = 'APOE'"
   ]
  },
  {
   "cell_type": "markdown",
   "id": "77be8348",
   "metadata": {},
   "source": [
    "First we need the location (chromosome, start and end coordinates) of the gene of interest. We'll use Ensembl's API for this, but of course there are many other ways."
   ]
  },
  {
   "cell_type": "code",
   "execution_count": 3,
   "id": "a18216ca",
   "metadata": {},
   "outputs": [],
   "source": [
    "xrefs_url = f'https://rest.ensembl.org/xrefs/symbol/homo_sapiens/{gene_name}?content-type=application/json'\n",
    "response = requests.get(xrefs_url)\n",
    "ensembl_id = response.json()[0]['id']\n",
    "\n",
    "lookup_url = f'http://rest.ensembl.org/lookup/id/{ensembl_id}?content-type=application/json'\n",
    "response = requests.get(lookup_url)\n",
    "gene_info = response.json()\n",
    "\n",
    "chrom = gene_info['seq_region_name']\n",
    "start = gene_info['start']\n",
    "end = gene_info['end']"
   ]
  },
  {
   "cell_type": "code",
   "execution_count": 4,
   "id": "0356b282",
   "metadata": {},
   "outputs": [],
   "source": [
    "# We can use the assembly and species names from Ensembl to query EVA, just modified slightly\n",
    "genus, species = gene_info['species'].split('_')\n",
    "taxonomy_code = genus[0] + species\n",
    "assembly_code = gene_info['assembly_name'].lower()"
   ]
  },
  {
   "cell_type": "markdown",
   "id": "79f41c7a",
   "metadata": {},
   "source": [
    "Next, we query the EVA API for all variants in this region, for the species and assembly in question."
   ]
  },
  {
   "cell_type": "code",
   "execution_count": 5,
   "id": "0eaf41a1",
   "metadata": {},
   "outputs": [],
   "source": [
    "# The limit parameter sets the maximum number of results to return.\n",
    "# If there are more than the limit you will have to page through the results; in our case 1000 is enough.\n",
    "segments_url = f'https://www.ebi.ac.uk/eva/webservices/rest/v1/segments/' \\\n",
    "               f'{chrom}:{start}-{end}/variants?species={taxonomy_code}_{assembly_code}' \\\n",
    "               f'&limit=1000'\n",
    "\n",
    "response = requests.get(segments_url)\n",
    "variants = response.json()['response'][0]['result']"
   ]
  },
  {
   "cell_type": "markdown",
   "id": "773ef7cf",
   "metadata": {},
   "source": [
    "The response can be really large as it includes all the source data contained in the EVA for a given variant, including all samples in all studies. Since we are looking for consequences, let's just look at the `annotation` field."
   ]
  },
  {
   "cell_type": "code",
   "execution_count": 6,
   "id": "ac50dcbf",
   "metadata": {
    "scrolled": true
   },
   "outputs": [
    {
     "data": {
      "text/plain": [
       "{'chromosome': '19',\n",
       " 'start': 44905804,\n",
       " 'end': 44905804,\n",
       " 'vepVersion': '86',\n",
       " 'vepCacheVersion': '86',\n",
       " 'consequenceTypes': [{'geneName': 'APOE',\n",
       "   'ensemblGeneId': 'ENSG00000130203',\n",
       "   'ensemblTranscriptId': 'ENST00000446996',\n",
       "   'strand': '+',\n",
       "   'biotype': 'protein_coding',\n",
       "   'cDnaPosition': 14,\n",
       "   'aaChange': '-',\n",
       "   'codon': '-',\n",
       "   'soTerms': [{'soName': '5_prime_UTR_variant',\n",
       "     'soAccession': 'SO:0001623'}]},\n",
       "  {'geneName': 'TOMM40',\n",
       "   'ensemblGeneId': 'ENSG00000130204',\n",
       "   'ensemblTranscriptId': 'ENST00000405636',\n",
       "   'strand': '+',\n",
       "   'biotype': 'protein_coding',\n",
       "   'aaChange': '-',\n",
       "   'codon': '-',\n",
       "   'soTerms': [{'soName': 'downstream_gene_variant',\n",
       "     'soAccession': 'SO:0001632'}]},\n",
       "  {'geneName': 'APOE',\n",
       "   'ensemblGeneId': 'ENSG00000130203',\n",
       "   'ensemblTranscriptId': 'ENST00000485628',\n",
       "   'strand': '+',\n",
       "   'biotype': 'retained_intron',\n",
       "   'cDnaPosition': 9,\n",
       "   'aaChange': '-',\n",
       "   'codon': '-',\n",
       "   'soTerms': [{'soName': 'non_coding_transcript_exon_variant',\n",
       "     'soAccession': 'SO:0001792'},\n",
       "    {'soName': 'non_coding_transcript_variant', 'soAccession': 'SO:0001619'}]},\n",
       "  {'geneName': 'APOE',\n",
       "   'ensemblGeneId': 'ENSG00000130203',\n",
       "   'ensemblTranscriptId': 'ENST00000252486',\n",
       "   'strand': '+',\n",
       "   'biotype': 'protein_coding',\n",
       "   'cDnaPosition': 51,\n",
       "   'aaChange': '-',\n",
       "   'codon': '-',\n",
       "   'soTerms': [{'soName': '5_prime_UTR_variant',\n",
       "     'soAccession': 'SO:0001623'}]},\n",
       "  {'geneName': 'TOMM40',\n",
       "   'ensemblGeneId': 'ENSG00000130204',\n",
       "   'ensemblTranscriptId': 'ENST00000592434',\n",
       "   'strand': '+',\n",
       "   'biotype': 'protein_coding',\n",
       "   'aaChange': '-',\n",
       "   'codon': '-',\n",
       "   'soTerms': [{'soName': 'downstream_gene_variant',\n",
       "     'soAccession': 'SO:0001632'}]},\n",
       "  {'geneName': 'TOMM40',\n",
       "   'ensemblGeneId': 'ENSG00000130204',\n",
       "   'ensemblTranscriptId': 'ENST00000426677',\n",
       "   'strand': '+',\n",
       "   'biotype': 'protein_coding',\n",
       "   'aaChange': '-',\n",
       "   'codon': '-',\n",
       "   'soTerms': [{'soName': 'downstream_gene_variant',\n",
       "     'soAccession': 'SO:0001632'}]},\n",
       "  {'geneName': 'TOMM40',\n",
       "   'ensemblGeneId': 'ENSG00000130204',\n",
       "   'ensemblTranscriptId': 'ENST00000592041',\n",
       "   'strand': '+',\n",
       "   'biotype': 'nonsense_mediated_decay',\n",
       "   'aaChange': '-',\n",
       "   'codon': '-',\n",
       "   'soTerms': [{'soName': 'downstream_gene_variant',\n",
       "     'soAccession': 'SO:0001632'}]},\n",
       "  {'biotype': 'promoter',\n",
       "   'soTerms': [{'soName': 'regulatory_region_variant',\n",
       "     'soAccession': 'SO:0001566'}]},\n",
       "  {'geneName': 'CTB-129P6.7',\n",
       "   'ensemblGeneId': 'ENSG00000280087',\n",
       "   'ensemblTranscriptId': 'ENST00000623895',\n",
       "   'strand': '+',\n",
       "   'biotype': 'TEC',\n",
       "   'aaChange': '-',\n",
       "   'codon': '-',\n",
       "   'soTerms': [{'soName': 'upstream_gene_variant',\n",
       "     'soAccession': 'SO:0001631'}]},\n",
       "  {'geneName': 'APOE',\n",
       "   'ensemblGeneId': 'ENSG00000130203',\n",
       "   'ensemblTranscriptId': 'ENST00000434152',\n",
       "   'strand': '+',\n",
       "   'biotype': 'protein_coding',\n",
       "   'aaChange': '-',\n",
       "   'codon': '-',\n",
       "   'soTerms': [{'soName': 'upstream_gene_variant',\n",
       "     'soAccession': 'SO:0001631'}]},\n",
       "  {'geneName': 'APOE',\n",
       "   'ensemblGeneId': 'ENSG00000130203',\n",
       "   'ensemblTranscriptId': 'ENST00000425718',\n",
       "   'strand': '+',\n",
       "   'biotype': 'protein_coding',\n",
       "   'aaChange': '-',\n",
       "   'codon': '-',\n",
       "   'soTerms': [{'soName': 'upstream_gene_variant',\n",
       "     'soAccession': 'SO:0001631'}]},\n",
       "  {'geneName': 'TOMM40',\n",
       "   'ensemblGeneId': 'ENSG00000130204',\n",
       "   'ensemblTranscriptId': 'ENST00000252487',\n",
       "   'strand': '+',\n",
       "   'biotype': 'protein_coding',\n",
       "   'aaChange': '-',\n",
       "   'codon': '-',\n",
       "   'soTerms': [{'soName': 'downstream_gene_variant',\n",
       "     'soAccession': 'SO:0001632'}]}],\n",
       " 'xrefs': [{'id': 'TOMM40', 'src': 'HGNC'},\n",
       "  {'id': 'ENSG00000130203', 'src': 'ensemblGene'},\n",
       "  {'id': 'ENSG00000130204', 'src': 'ensemblGene'},\n",
       "  {'id': 'ENST00000446996', 'src': 'ensemblTranscript'},\n",
       "  {'id': 'ENST00000434152', 'src': 'ensemblTranscript'},\n",
       "  {'id': 'ENST00000405636', 'src': 'ensemblTranscript'},\n",
       "  {'id': 'ENST00000485628', 'src': 'ensemblTranscript'},\n",
       "  {'id': 'ENST00000623895', 'src': 'ensemblTranscript'},\n",
       "  {'id': 'ENST00000426677', 'src': 'ensemblTranscript'},\n",
       "  {'id': 'APOE', 'src': 'HGNC'},\n",
       "  {'id': 'ENST00000425718', 'src': 'ensemblTranscript'},\n",
       "  {'id': 'ENST00000592041', 'src': 'ensemblTranscript'},\n",
       "  {'id': 'ENST00000592434', 'src': 'ensemblTranscript'},\n",
       "  {'id': 'ENSG00000280087', 'src': 'ensemblGene'},\n",
       "  {'id': 'ENST00000252486', 'src': 'ensemblTranscript'},\n",
       "  {'id': 'CTB-129P6.7', 'src': 'HGNC'},\n",
       "  {'id': 'ENST00000252487', 'src': 'ensemblTranscript'}]}"
      ]
     },
     "execution_count": 6,
     "metadata": {},
     "output_type": "execute_result"
    }
   ],
   "source": [
    "variants[0]['annotation']"
   ]
  },
  {
   "cell_type": "markdown",
   "id": "31fb5c36",
   "metadata": {},
   "source": [
    "We're interested in non-synonymous variants, so we'll filter the results for those which have some annotation which is not `synonymous_variant`."
   ]
  },
  {
   "cell_type": "code",
   "execution_count": 7,
   "id": "735b5af4",
   "metadata": {
    "scrolled": false
   },
   "outputs": [],
   "source": [
    "nonsynonymous_variants = []\n",
    "for v in variants:\n",
    "    if 'annotation' in v:\n",
    "        consequences = v['annotation']['consequenceTypes']\n",
    "        for c in consequences:\n",
    "            # Could also look only for consequences on the APOE gene\n",
    "            if 'synonymous_variant' not in {s['soName'] for s in c['soTerms']}:\n",
    "                nonsynonymous_variants.append(v)\n",
    "                break"
   ]
  },
  {
   "cell_type": "markdown",
   "id": "9606215a",
   "metadata": {},
   "source": [
    "Now that we have this data, we can start to explore it a bit. For example let's just see where the nonsynonymous variants tend to be in the gene, as compared to the synonymous ones."
   ]
  },
  {
   "cell_type": "code",
   "execution_count": 8,
   "id": "a81f754d",
   "metadata": {},
   "outputs": [],
   "source": [
    "num_bins = 100\n",
    "\n",
    "all_positions = [v['start'] for v in variants]\n",
    "nonsyn_positions = [v['start'] for v in nonsynonymous_variants]\n",
    "\n",
    "all_counts, all_bins = np.histogram(all_positions, bins=num_bins)\n",
    "nonsyn_counts, nonsyn_bins = np.histogram(nonsyn_positions, bins=num_bins)"
   ]
  },
  {
   "cell_type": "code",
   "execution_count": 9,
   "id": "735cc519",
   "metadata": {},
   "outputs": [
    {
     "data": {
      "text/plain": [
       "<matplotlib.legend.Legend at 0x7f21680139d0>"
      ]
     },
     "execution_count": 9,
     "metadata": {},
     "output_type": "execute_result"
    },
    {
     "data": {
      "image/png": "[encoded data removed]",
      "text/plain": [
       "<Figure size 1500x700 with 1 Axes>"
      ]
     },
     "metadata": {},
     "output_type": "display_data"
    }
   ],
   "source": [
    "plt.figure(figsize=(15,7))\n",
    "plt.title('Variants on the APOE gene')\n",
    "# Set the bounds to the extent of the gene\n",
    "plt.xlim((start, end))\n",
    "plt.xlabel('Position')\n",
    "plt.ylabel('Count')\n",
    "\n",
    "plt.stairs(all_counts, all_bins, label='All variants')\n",
    "plt.stairs(nonsyn_counts, nonsyn_bins, label='Nonsynonymous variants')\n",
    "plt.legend()"
   ]
  },
  {
   "cell_type": "markdown",
   "id": "4073dd25",
   "metadata": {},
   "source": [
    "(Probably all this really tells us is that people tend to report variants that have effects on the protein when they're on protein-coding genes!)"
   ]
  }
 ],
 "metadata": {
  "kernelspec": {
   "display_name": "Python 3 (ipykernel)",
   "language": "python",
   "name": "python3"
  },
  "language_info": {
   "codemirror_mode": {
    "name": "ipython",
    "version": 3
   },
   "file_extension": ".py",
   "mimetype": "text/x-python",
   "name": "python",
   "nbconvert_exporter": "python",
   "pygments_lexer": "ipython3",
   "version": "3.8.10"
  }
 },
 "nbformat": 4,
 "nbformat_minor": 5
}
