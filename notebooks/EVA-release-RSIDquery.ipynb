{
 "cells": [
  {
   "cell_type": "markdown",
   "metadata": {},
   "source": [
    "# Fetching data from EVA RS ID releases\n",
    "## API swagger documentation - [Identifiers_API](https://www.ebi.ac.uk/eva/webservices/identifiers/swagger-ui.html)\n",
    "We can use the API to query clustered data from EVA RS ID releases. This is variant data that has been submitted directly to the EVA, accessioned to receive an SS ID, then clustered into an RS ID.\n",
    "We will be using the **RS ID** as an input"
   ]
  },
  {
   "cell_type": "code",
   "execution_count": 1,
   "metadata": {},
   "outputs": [],
   "source": [
    "import requests\n",
    "import json"
   ]
  },
  {
   "cell_type": "code",
   "execution_count": 2,
   "metadata": {},
   "outputs": [],
   "source": [
    "# Query paratmeter - only the numeric string of the ID is required\n",
    "rsid = \"379920406\""
   ]
  },
  {
   "cell_type": "code",
   "execution_count": 3,
   "metadata": {},
   "outputs": [],
   "source": [
    "request_url = f'https://www.ebi.ac.uk/eva/webservices/identifiers/v1/clustered-variants/{rsid}/submitted'\n",
    "response = requests.get(request_url)\n",
    "output = response.json()"
   ]
  },
  {
   "cell_type": "code",
   "execution_count": 4,
   "metadata": {},
   "outputs": [
    {
     "name": "stdout",
     "output_type": "stream",
     "text": [
      "[{'accession': 7626432460, 'version': 1, 'data': {'referenceSequenceAccession': 'GCA_002263795.2', 'taxonomyAccession': 9913, 'projectAccession': 'PRJEB47999', 'contig': 'CM008173.2', 'start': 85411136, 'referenceAllele': 'C', 'alternateAllele': 'T', 'clusteredVariantAccession': 379920406, 'supportedByEvidence': True, 'assemblyMatch': True, 'allelesMatch': True, 'validated': False, 'mapWeight': None, 'createdDate': '2021-10-12T11:33:46.097', 'remappedFrom': None, 'remappedDate': None, 'remappingId': None, 'backPropagatedVariantAccession': None}}, {'accession': 7571130482, 'version': 1, 'data': {'referenceSequenceAccession': 'GCA_002263795.2', 'taxonomyAccession': 9913, 'projectAccession': 'PRJEB46861', 'contig': 'CM008173.2', 'start': 85411136, 'referenceAllele': 'C', 'alternateAllele': 'T', 'clusteredVariantAccession': 379920406, 'supportedByEvidence': True, 'assemblyMatch': True, 'allelesMatch': True, 'validated': False, 'mapWeight': None, 'createdDate': '2021-09-08T13:08:25.551', 'remappedFrom': None, 'remappedDate': None, 'remappingId': None, 'backPropagatedVariantAccession': None}}, {'accession': 7217211020, 'version': 1, 'data': {'referenceSequenceAccession': 'GCA_002263795.2', 'taxonomyAccession': 9913, 'projectAccession': 'PRJEB38336', 'contig': 'CM008173.2', 'start': 85411136, 'referenceAllele': 'C', 'alternateAllele': 'T', 'clusteredVariantAccession': 379920406, 'supportedByEvidence': True, 'assemblyMatch': True, 'allelesMatch': True, 'validated': False, 'mapWeight': None, 'createdDate': '2020-11-26T20:46:57.82', 'remappedFrom': 'GCA_000003055.5', 'remappedDate': '2021-08-11T22:08:59.26', 'remappingId': '778BEEA595920286BA9CC9ECF13442A69F9DA73B', 'backPropagatedVariantAccession': None}}, {'accession': 1088931533, 'version': 1, 'data': {'referenceSequenceAccession': 'GCA_002263795.2', 'taxonomyAccession': 9913, 'projectAccession': 'PRJEB7061', 'contig': 'CM008173.2', 'start': 85411136, 'referenceAllele': 'C', 'alternateAllele': 'T', 'clusteredVariantAccession': 379920406, 'supportedByEvidence': True, 'assemblyMatch': True, 'allelesMatch': True, 'validated': False, 'mapWeight': None, 'createdDate': '2014-07-27T11:55:00', 'remappedFrom': 'GCA_000003055.5', 'remappedDate': '2021-08-15T21:20:26.241', 'remappingId': '778BEEA595920286BA9CC9ECF13442A69F9DA73B', 'backPropagatedVariantAccession': None}}, {'accession': 683318726, 'version': 1, 'data': {'referenceSequenceAccession': 'GCA_000003055.5', 'taxonomyAccession': 9913, 'projectAccession': 'TZ_TUM_43_FV_SEQ SNPS', 'contig': 'GK000006.2', 'start': 87140970, 'referenceAllele': 'C', 'alternateAllele': 'T', 'clusteredVariantAccession': 379920406, 'supportedByEvidence': False, 'assemblyMatch': True, 'allelesMatch': True, 'validated': True, 'mapWeight': None, 'createdDate': '2013-01-20T00:02:00', 'remappedFrom': None, 'remappedDate': None, 'remappingId': None, 'backPropagatedVariantAccession': None}}, {'accession': 1451546628, 'version': 1, 'data': {'referenceSequenceAccession': 'GCA_000003055.5', 'taxonomyAccession': 9913, 'projectAccession': 'WBARENDSE_BRA2 - SNP', 'contig': 'GK000006.2', 'start': 87140970, 'referenceAllele': 'C', 'alternateAllele': 'T', 'clusteredVariantAccession': 379920406, 'supportedByEvidence': False, 'assemblyMatch': True, 'allelesMatch': True, 'validated': False, 'mapWeight': None, 'createdDate': '2014-11-08T10:56:00', 'remappedFrom': None, 'remappedDate': None, 'remappingId': None, 'backPropagatedVariantAccession': None}}, {'accession': 1956275935, 'version': 1, 'data': {'referenceSequenceAccession': 'GCA_000003055.5', 'taxonomyAccession': 9913, 'projectAccession': 'AU-MBG-MOLGEN_WHOLEGENOME_SNP_DISCOVERY', 'contig': 'GK000006.2', 'start': 87140970, 'referenceAllele': 'C', 'alternateAllele': 'T', 'clusteredVariantAccession': 379920406, 'supportedByEvidence': False, 'assemblyMatch': True, 'allelesMatch': True, 'validated': True, 'mapWeight': None, 'createdDate': '2015-11-11T09:11:00', 'remappedFrom': None, 'remappedDate': None, 'remappingId': None, 'backPropagatedVariantAccession': None}}, {'accession': 758509205, 'version': 1, 'data': {'referenceSequenceAccession': 'GCA_000003055.5', 'taxonomyAccession': 9913, 'projectAccession': '1000_BULL_GENOMES_1000_BULL_GENOMES_RUN2', 'contig': 'GK000006.2', 'start': 87140970, 'referenceAllele': 'C', 'alternateAllele': 'T', 'clusteredVariantAccession': 379920406, 'supportedByEvidence': False, 'assemblyMatch': True, 'allelesMatch': True, 'validated': True, 'mapWeight': None, 'createdDate': '2013-05-09T05:46:00', 'remappedFrom': None, 'remappedDate': None, 'remappingId': None, 'backPropagatedVariantAccession': None}}, {'accession': 2126697835, 'version': 1, 'data': {'referenceSequenceAccession': 'GCA_000003055.5', 'taxonomyAccession': 9913, 'projectAccession': 'BIOPOP_WHOLE_GENOME_SNP_ASSAY', 'contig': 'GK000006.2', 'start': 87140970, 'referenceAllele': 'C', 'alternateAllele': 'T', 'clusteredVariantAccession': 379920406, 'supportedByEvidence': False, 'assemblyMatch': True, 'allelesMatch': True, 'validated': False, 'mapWeight': None, 'createdDate': '2016-10-16T16:42:00', 'remappedFrom': None, 'remappedDate': None, 'remappingId': None, 'backPropagatedVariantAccession': None}}, {'accession': 1515067307, 'version': 1, 'data': {'referenceSequenceAccession': 'GCA_002263795.2', 'taxonomyAccession': 9913, 'projectAccession': 'PRJEB6119', 'contig': 'CM008173.2', 'start': 85411136, 'referenceAllele': 'C', 'alternateAllele': 'T', 'clusteredVariantAccession': 379920406, 'supportedByEvidence': True, 'assemblyMatch': True, 'allelesMatch': True, 'validated': False, 'mapWeight': None, 'createdDate': '2014-12-11T06:43:00', 'remappedFrom': 'GCA_000003055.5', 'remappedDate': '2021-08-15T21:20:26.241', 'remappingId': '778BEEA595920286BA9CC9ECF13442A69F9DA73B', 'backPropagatedVariantAccession': None}}, {'accession': 1088931533, 'version': 1, 'data': {'referenceSequenceAccession': 'GCA_000003055.5', 'taxonomyAccession': 9913, 'projectAccession': 'PRJEB7061', 'contig': 'GK000006.2', 'start': 87140970, 'referenceAllele': 'C', 'alternateAllele': 'T', 'clusteredVariantAccession': 379920406, 'supportedByEvidence': False, 'assemblyMatch': True, 'allelesMatch': True, 'validated': True, 'mapWeight': None, 'createdDate': '2014-07-27T11:55:00', 'remappedFrom': None, 'remappedDate': None, 'remappingId': None, 'backPropagatedVariantAccession': None}}, {'accession': 683318726, 'version': 1, 'data': {'referenceSequenceAccession': 'GCA_002263795.2', 'taxonomyAccession': 9913, 'projectAccession': 'TZ_TUM_43_FV_SEQ SNPS', 'contig': 'CM008173.2', 'start': 85411136, 'referenceAllele': 'C', 'alternateAllele': 'T', 'clusteredVariantAccession': 379920406, 'supportedByEvidence': True, 'assemblyMatch': True, 'allelesMatch': True, 'validated': False, 'mapWeight': None, 'createdDate': '2013-01-20T00:02:00', 'remappedFrom': 'GCA_000003055.5', 'remappedDate': '2021-08-15T21:20:26.241', 'remappingId': '778BEEA595920286BA9CC9ECF13442A69F9DA73B', 'backPropagatedVariantAccession': None}}, {'accession': 1451546628, 'version': 1, 'data': {'referenceSequenceAccession': 'GCA_002263795.2', 'taxonomyAccession': 9913, 'projectAccession': 'WBARENDSE_BRA2 - SNP', 'contig': 'CM008173.2', 'start': 85411136, 'referenceAllele': 'C', 'alternateAllele': 'T', 'clusteredVariantAccession': 379920406, 'supportedByEvidence': True, 'assemblyMatch': True, 'allelesMatch': True, 'validated': False, 'mapWeight': None, 'createdDate': '2014-11-08T10:56:00', 'remappedFrom': 'GCA_000003055.5', 'remappedDate': '2021-08-15T21:20:26.241', 'remappingId': '778BEEA595920286BA9CC9ECF13442A69F9DA73B', 'backPropagatedVariantAccession': None}}, {'accession': 1829370055, 'version': 1, 'data': {'referenceSequenceAccession': 'GCA_000003055.5', 'taxonomyAccession': 9913, 'projectAccession': 'MARC_GPE_BULL_GENEX', 'contig': 'GK000006.2', 'start': 87140970, 'referenceAllele': 'C', 'alternateAllele': 'T', 'clusteredVariantAccession': 379920406, 'supportedByEvidence': False, 'assemblyMatch': True, 'allelesMatch': True, 'validated': True, 'mapWeight': None, 'createdDate': '2015-08-30T05:21:00', 'remappedFrom': None, 'remappedDate': None, 'remappingId': None, 'backPropagatedVariantAccession': None}}, {'accession': 2126697835, 'version': 1, 'data': {'referenceSequenceAccession': 'GCA_002263795.2', 'taxonomyAccession': 9913, 'projectAccession': 'BIOPOP_WHOLE_GENOME_SNP_ASSAY', 'contig': 'CM008173.2', 'start': 85411136, 'referenceAllele': 'C', 'alternateAllele': 'T', 'clusteredVariantAccession': 379920406, 'supportedByEvidence': True, 'assemblyMatch': True, 'allelesMatch': True, 'validated': False, 'mapWeight': None, 'createdDate': '2016-10-16T16:42:00', 'remappedFrom': 'GCA_000003055.5', 'remappedDate': '2021-08-15T21:20:26.241', 'remappingId': '778BEEA595920286BA9CC9ECF13442A69F9DA73B', 'backPropagatedVariantAccession': None}}, {'accession': 830915657, 'version': 1, 'data': {'referenceSequenceAccession': 'GCA_000003055.5', 'taxonomyAccession': 9913, 'projectAccession': 'IZ-PIB_SNP_INDEL_DISCOVERY', 'contig': 'GK000006.2', 'start': 87140970, 'referenceAllele': 'C', 'alternateAllele': 'T', 'clusteredVariantAccession': 379920406, 'supportedByEvidence': False, 'assemblyMatch': True, 'allelesMatch': True, 'validated': True, 'mapWeight': None, 'createdDate': '2013-08-05T22:40:00', 'remappedFrom': None, 'remappedDate': None, 'remappingId': None, 'backPropagatedVariantAccession': None}}, {'accession': 758509205, 'version': 1, 'data': {'referenceSequenceAccession': 'GCA_002263795.2', 'taxonomyAccession': 9913, 'projectAccession': '1000_BULL_GENOMES_1000_BULL_GENOMES_RUN2', 'contig': 'CM008173.2', 'start': 85411136, 'referenceAllele': 'C', 'alternateAllele': 'T', 'clusteredVariantAccession': 379920406, 'supportedByEvidence': True, 'assemblyMatch': True, 'allelesMatch': True, 'validated': False, 'mapWeight': None, 'createdDate': '2013-05-09T05:46:00', 'remappedFrom': 'GCA_000003055.5', 'remappedDate': '2021-08-15T21:20:26.241', 'remappingId': '778BEEA595920286BA9CC9ECF13442A69F9DA73B', 'backPropagatedVariantAccession': None}}, {'accession': 1956275935, 'version': 1, 'data': {'referenceSequenceAccession': 'GCA_002263795.2', 'taxonomyAccession': 9913, 'projectAccession': 'AU-MBG-MOLGEN_WHOLEGENOME_SNP_DISCOVERY', 'contig': 'CM008173.2', 'start': 85411136, 'referenceAllele': 'C', 'alternateAllele': 'T', 'clusteredVariantAccession': 379920406, 'supportedByEvidence': True, 'assemblyMatch': True, 'allelesMatch': True, 'validated': False, 'mapWeight': None, 'createdDate': '2015-11-11T09:11:00', 'remappedFrom': 'GCA_000003055.5', 'remappedDate': '2021-08-15T21:20:26.241', 'remappingId': '778BEEA595920286BA9CC9ECF13442A69F9DA73B', 'backPropagatedVariantAccession': None}}, {'accession': 1515067307, 'version': 1, 'data': {'referenceSequenceAccession': 'GCA_000003055.5', 'taxonomyAccession': 9913, 'projectAccession': 'PRJEB6119', 'contig': 'GK000006.2', 'start': 87140970, 'referenceAllele': 'C', 'alternateAllele': 'T', 'clusteredVariantAccession': 379920406, 'supportedByEvidence': False, 'assemblyMatch': True, 'allelesMatch': True, 'validated': True, 'mapWeight': None, 'createdDate': '2014-12-11T06:43:00', 'remappedFrom': None, 'remappedDate': None, 'remappingId': None, 'backPropagatedVariantAccession': None}}, {'accession': 1829370055, 'version': 1, 'data': {'referenceSequenceAccession': 'GCA_002263795.2', 'taxonomyAccession': 9913, 'projectAccession': 'MARC_GPE_BULL_GENEX', 'contig': 'CM008173.2', 'start': 85411136, 'referenceAllele': 'C', 'alternateAllele': 'T', 'clusteredVariantAccession': 379920406, 'supportedByEvidence': True, 'assemblyMatch': True, 'allelesMatch': True, 'validated': False, 'mapWeight': None, 'createdDate': '2015-08-30T05:21:00', 'remappedFrom': 'GCA_000003055.5', 'remappedDate': '2021-08-15T21:20:26.241', 'remappingId': '778BEEA595920286BA9CC9ECF13442A69F9DA73B', 'backPropagatedVariantAccession': None}}, {'accession': 830915657, 'version': 1, 'data': {'referenceSequenceAccession': 'GCA_002263795.2', 'taxonomyAccession': 9913, 'projectAccession': 'IZ-PIB_SNP_INDEL_DISCOVERY', 'contig': 'CM008173.2', 'start': 85411136, 'referenceAllele': 'C', 'alternateAllele': 'T', 'clusteredVariantAccession': 379920406, 'supportedByEvidence': True, 'assemblyMatch': True, 'allelesMatch': True, 'validated': False, 'mapWeight': None, 'createdDate': '2013-08-05T22:40:00', 'remappedFrom': 'GCA_000003055.5', 'remappedDate': '2021-08-15T21:20:26.241', 'remappingId': '778BEEA595920286BA9CC9ECF13442A69F9DA73B', 'backPropagatedVariantAccession': None}}, {'accession': 1404048026, 'version': 1, 'data': {'referenceSequenceAccession': 'GCA_002263795.2', 'taxonomyAccession': 9913, 'projectAccession': 'HAFL_QUALITAS_20140601_SLIG', 'contig': 'CM008173.2', 'start': 85411136, 'referenceAllele': 'C', 'alternateAllele': 'T', 'clusteredVariantAccession': 379920406, 'supportedByEvidence': True, 'assemblyMatch': True, 'allelesMatch': True, 'validated': False, 'mapWeight': None, 'createdDate': '2014-10-18T00:49:00', 'remappedFrom': 'GCA_000003055.5', 'remappedDate': '2021-08-15T21:20:26.241', 'remappingId': '778BEEA595920286BA9CC9ECF13442A69F9DA73B', 'backPropagatedVariantAccession': None}}, {'accession': 1404048026, 'version': 1, 'data': {'referenceSequenceAccession': 'GCA_000003055.5', 'taxonomyAccession': 9913, 'projectAccession': 'HAFL_QUALITAS_20140601_SLIG', 'contig': 'GK000006.2', 'start': 87140970, 'referenceAllele': 'C', 'alternateAllele': 'T', 'clusteredVariantAccession': 379920406, 'supportedByEvidence': False, 'assemblyMatch': True, 'allelesMatch': True, 'validated': False, 'mapWeight': None, 'createdDate': '2014-10-18T00:49:00', 'remappedFrom': None, 'remappedDate': None, 'remappingId': None, 'backPropagatedVariantAccession': None}}]\n"
     ]
    }
   ],
   "source": [
    "print(output)"
   ]
  },
  {
   "cell_type": "markdown",
   "metadata": {},
   "source": [
    "Our general query provides an abundance of information including date the ID was created and if the variant has been remapped to a newer assembly. For this task we want to find the associated clustered SS IDs, species/assembly, & variant location"
   ]
  },
  {
   "cell_type": "markdown",
   "metadata": {},
   "source": [
    "We can parse the JSON output to find data of interest and assign these to variables"
   ]
  },
  {
   "cell_type": "code",
   "execution_count": 5,
   "metadata": {},
   "outputs": [],
   "source": [
    "ss_list=[]\n",
    "for record in output:\n",
    "    ssroll = record['accession']\n",
    "    ss_list.append(ssroll)\n",
    "assembly = output[0]['data']['referenceSequenceAccession']\n",
    "chrom = output[0]['data']['contig']\n",
    "locat = output[0]['data']['start']\n",
    "species = output[0]['data']['taxonomyAccession']\n",
    "ref = output[0]['data']['referenceAllele']\n",
    "alt = output[0]['data']['alternateAllele']\n",
    "rsid = output[0]['data']['clusteredVariantAccession']"
   ]
  },
  {
   "cell_type": "markdown",
   "metadata": {},
   "source": [
    "As the API uses INSDC nonmenclature, we can use another endpoint to convert the accessions to names"
   ]
  },
  {
   "cell_type": "code",
   "execution_count": 6,
   "metadata": {},
   "outputs": [],
   "source": [
    "species_list_url = f'https://www.ebi.ac.uk/eva/webservices/rest/v1/meta/species/list'\n",
    "list_res = requests.get(species_list_url)\n",
    "species_list = list_res.json()['response'][0]['result']\n",
    "for x in species_list:\n",
    "    if x['assemblyAccession'] == assembly:\n",
    "        assembly_code = x['assemblyName']\n",
    "for y in species_list:\n",
    "    if y['taxonomyId'] == species:\n",
    "        taxonomy_code = y['taxonomyScientificName']"
   ]
  },
  {
   "cell_type": "code",
   "execution_count": 7,
   "metadata": {},
   "outputs": [],
   "source": [
    "insdc_contig = f'https://www.ebi.ac.uk/eva/webservices/contig-alias/v1/chromosomes/genbank/{chrom}'\n",
    "contig_res = requests.get(insdc_contig)\n",
    "chromosomes = contig_res.json()['_embedded']['chromosomeEntities']\n",
    "for z in chromosomes:\n",
    "    if z['insdcAccession'] == chrom:\n",
    "        chrom_num = z['genbankSequenceName']"
   ]
  },
  {
   "cell_type": "code",
   "execution_count": 8,
   "metadata": {},
   "outputs": [
    {
     "name": "stdout",
     "output_type": "stream",
     "text": [
      "RS_ID = rs379920406\n",
      "SS_ID(s) = [7626432460, 7571130482, 7217211020, 1088931533, 683318726, 1451546628, 1956275935, 758509205, 2126697835, 1515067307, 1088931533, 683318726, 1451546628, 1829370055, 2126697835, 830915657, 758509205, 1956275935, 1515067307, 1829370055, 830915657, 1404048026, 1404048026]\n",
      "Species/Assembly = Bos taurus/ARS-UCD1.2\n",
      "Variant_location = 6:85411136\n",
      "REF/ALT = C/T\n"
     ]
    }
   ],
   "source": [
    "print('RS_ID = ', \"rs\", (rsid), sep='')\n",
    "print('SS_ID(s) = ', (ss_list), sep='')\n",
    "print('Species/Assembly = ', (taxonomy_code), \"/\", (assembly_code), sep='')\n",
    "print('Variant_location = ', (chrom_num), \":\", (locat), sep='')\n",
    "print('REF/ALT = ', (ref), \"/\", (alt), sep='')"
   ]
  }
 ],
 "metadata": {
  "kernelspec": {
   "display_name": "Python 3",
   "language": "python",
   "name": "python3"
  },
  "language_info": {
   "codemirror_mode": {
    "name": "ipython",
    "version": 3
   },
   "file_extension": ".py",
   "mimetype": "text/x-python",
   "name": "python",
   "nbconvert_exporter": "python",
   "pygments_lexer": "ipython3",
   "version": "3.6.9"
  }
 },
 "nbformat": 4,
 "nbformat_minor": 2
}
