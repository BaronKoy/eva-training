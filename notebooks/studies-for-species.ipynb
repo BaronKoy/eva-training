{
 "cells": [
  {
   "cell_type": "markdown",
   "id": "af50de54",
   "metadata": {},
   "source": [
    "## Getting the studies for a species\n",
    "\n",
    "This notebook will walk you through how to use the EVA API to get all the studies in the EVA for a particular species (e.g. mouse), and then get basic summary statistics for those studies - namely the number of variants and number of samples.\n",
    "\n",
    "For reference, here is the documentation for all the APIs we will use:\n",
    "\n",
    "* [EVA API](https://www.ebi.ac.uk/eva/webservices/rest/swagger-ui.html)"
   ]
  },
  {
   "cell_type": "code",
   "execution_count": 1,
   "id": "7522f030",
   "metadata": {},
   "outputs": [],
   "source": [
    "import requests\n",
    "from collections import defaultdict"
   ]
  },
  {
   "cell_type": "code",
   "execution_count": 2,
   "id": "6c30d6ec",
   "metadata": {},
   "outputs": [],
   "source": [
    "taxonomy_id = 10090"
   ]
  },
  {
   "cell_type": "markdown",
   "id": "c4e11162",
   "metadata": {},
   "source": [
    "For a given species, the EVA may have variants mapped to multiple reference genomes. Here we'll get all the assemblies for which there is data for this taxonomy."
   ]
  },
  {
   "cell_type": "code",
   "execution_count": 3,
   "id": "1bbf101c",
   "metadata": {},
   "outputs": [],
   "source": [
    "species_list_url = 'https://www.ebi.ac.uk/eva/webservices/rest/v1/meta/species/list'\n",
    "response = requests.get(species_list_url)\n",
    "species_list = response.json()['response'][0]['result']\n",
    "\n",
    "taxonomy_code = None\n",
    "assemblies = set()\n",
    "for s in species_list:\n",
    "    if s['taxonomyId'] == taxonomy_id:\n",
    "        if not taxonomy_code:\n",
    "            taxonomy_code = s['taxonomyCode']\n",
    "        assemblies.add(s['assemblyCode'])"
   ]
  },
  {
   "cell_type": "code",
   "execution_count": 4,
   "id": "583641a0",
   "metadata": {},
   "outputs": [
    {
     "data": {
      "text/plain": [
       "'mmusculus'"
      ]
     },
     "execution_count": 4,
     "metadata": {},
     "output_type": "execute_result"
    }
   ],
   "source": [
    "taxonomy_code"
   ]
  },
  {
   "cell_type": "code",
   "execution_count": 5,
   "id": "fc875c17",
   "metadata": {},
   "outputs": [
    {
     "data": {
      "text/plain": [
       "{'grcm38', 'grcm39', 'mgscv37'}"
      ]
     },
     "execution_count": 5,
     "metadata": {},
     "output_type": "execute_result"
    }
   ],
   "source": [
    "assemblies"
   ]
  },
  {
   "cell_type": "markdown",
   "id": "1d34a7ec",
   "metadata": {},
   "source": [
    "Now for each assembly, we'll get all the studies in the EVA and collect some summary stats about them, namely the number of variants and number of samples in each."
   ]
  },
  {
   "cell_type": "code",
   "execution_count": 6,
   "id": "35ee3e3b",
   "metadata": {},
   "outputs": [],
   "source": [
    "studies_per_assembly = defaultdict(list)\n",
    "\n",
    "for assembly_code in assemblies:\n",
    "    studies_list_url = f'https://www.ebi.ac.uk/eva/webservices/rest/v1/meta/studies/list' \\\n",
    "                       f'?species={taxonomy_code}_{assembly_code}'\n",
    "    response = requests.get(studies_list_url)\n",
    "    studies = response.json()['response'][0]['result']\n",
    "\n",
    "    for study in studies:\n",
    "        study_id = study['studyId']\n",
    "        study_url = f'https://www.ebi.ac.uk/eva/webservices/rest/v1/studies/{study_id}/summary'\n",
    "        response = requests.get(study_url)\n",
    "        # Currently we don't have all stats for studies not submitted directly to the EVA, hence this check\n",
    "        if not response.ok:\n",
    "            continue\n",
    "        results = response.json()['response'][0]\n",
    "        if results['numTotalResults'] != 0:\n",
    "            studies_per_assembly[assembly_code].append(study_id)"
   ]
  },
  {
   "cell_type": "code",
   "execution_count": 7,
   "id": "3e7a31c9",
   "metadata": {
    "scrolled": true
   },
   "outputs": [
    {
     "data": {
      "text/plain": [
       "defaultdict(list,\n",
       "            {'grcm38': ['PRJEB45961',\n",
       "              'PRJEB45429',\n",
       "              'PRJEB41714',\n",
       "              'PRJEB28344',\n",
       "              'PRJEB28956',\n",
       "              'PRJEB11471',\n",
       "              'PRJEB6911',\n",
       "              'PRJEB43298',\n",
       "              'PRJEB53276'],\n",
       "             'grcm39': ['PRJEB53906', 'PRJEB53593'],\n",
       "             'mgscv37': ['PRJEB48005', 'PRJEB39892']})"
      ]
     },
     "execution_count": 7,
     "metadata": {},
     "output_type": "execute_result"
    }
   ],
   "source": [
    "studies_per_assembly"
   ]
  },
  {
   "cell_type": "code",
   "execution_count": 8,
   "id": "cc335876",
   "metadata": {},
   "outputs": [],
   "source": [
    "variant_counts = {}\n",
    "sample_counts = {}\n",
    "\n",
    "for assembly_code, studies in studies_per_assembly.items():\n",
    "    for study_id in studies:\n",
    "        # In general studies can have multiple files, so we need to sum their counts\n",
    "        total_num_variants = 0\n",
    "        total_num_samples = 0\n",
    "        \n",
    "        files_url = f'https://www.ebi.ac.uk/eva/webservices/rest/v1/studies/{study_id}/files' \\\n",
    "                    f'?species={taxonomy_code}_{assembly_code}'\n",
    "        response = requests.get(files_url)\n",
    "        files = response.json()['response'][0]['result']\n",
    "        for file in files:\n",
    "            if 'stats' in file:\n",
    "                total_num_variants += file['stats']['variantsCount']\n",
    "                total_num_samples += file['stats']['samplesCount']\n",
    "                \n",
    "        variant_counts[study_id] = total_num_variants\n",
    "        sample_counts[study_id] = total_num_samples"
   ]
  },
  {
   "cell_type": "code",
   "execution_count": 9,
   "id": "9a964a90",
   "metadata": {
    "scrolled": false
   },
   "outputs": [
    {
     "data": {
      "text/plain": [
       "{'PRJEB45961': 5996023,\n",
       " 'PRJEB45429': 35967533,\n",
       " 'PRJEB41714': 0,\n",
       " 'PRJEB28344': 1181836,\n",
       " 'PRJEB28956': 0,\n",
       " 'PRJEB11471': 95624835,\n",
       " 'PRJEB6911': 80706582,\n",
       " 'PRJEB43298': 0,\n",
       " 'PRJEB53276': 3456,\n",
       " 'PRJEB53906': 101584582,\n",
       " 'PRJEB53593': 34174,\n",
       " 'PRJEB48005': 6955,\n",
       " 'PRJEB39892': 349}"
      ]
     },
     "execution_count": 9,
     "metadata": {},
     "output_type": "execute_result"
    }
   ],
   "source": [
    "variant_counts"
   ]
  },
  {
   "cell_type": "code",
   "execution_count": 10,
   "id": "a61871f4",
   "metadata": {},
   "outputs": [
    {
     "data": {
      "text/plain": [
       "{'PRJEB45961': 150,\n",
       " 'PRJEB45429': 157,\n",
       " 'PRJEB41714': 0,\n",
       " 'PRJEB28344': 26,\n",
       " 'PRJEB28956': 0,\n",
       " 'PRJEB11471': 72,\n",
       " 'PRJEB6911': 36,\n",
       " 'PRJEB43298': 0,\n",
       " 'PRJEB53276': 16,\n",
       " 'PRJEB53906': 104,\n",
       " 'PRJEB53593': 940,\n",
       " 'PRJEB48005': 10,\n",
       " 'PRJEB39892': 30}"
      ]
     },
     "execution_count": 10,
     "metadata": {},
     "output_type": "execute_result"
    }
   ],
   "source": [
    "sample_counts"
   ]
  }
 ],
 "metadata": {
  "kernelspec": {
   "display_name": "Python 3 (ipykernel)",
   "language": "python",
   "name": "python3"
  },
  "language_info": {
   "codemirror_mode": {
    "name": "ipython",
    "version": 3
   },
   "file_extension": ".py",
   "mimetype": "text/x-python",
   "name": "python",
   "nbconvert_exporter": "python",
   "pygments_lexer": "ipython3",
   "version": "3.8.10"
  }
 },
 "nbformat": 4,
 "nbformat_minor": 5
}
