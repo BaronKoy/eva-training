{
 "cells": [
  {
   "cell_type": "markdown",
   "metadata": {},
   "source": [
    "# Grabbing SS information from a human RS ID\n",
    "We can use the API to obtain a list of SS IDs clustered under an imported RS ID using the id & assembly information:\n",
    "* **assembly** using the standard assembly name `e.g. grch37 or grch38`\n",
    "* **RS ID**"
   ]
  },
  {
   "cell_type": "code",
   "execution_count": 1,
   "metadata": {},
   "outputs": [],
   "source": [
    "import requests\n",
    "import json\n",
    "from __future__ import print_function"
   ]
  },
  {
   "cell_type": "code",
   "execution_count": 2,
   "metadata": {},
   "outputs": [],
   "source": [
    "# Query parameters - change for ID of interest\n",
    "assembly = \"grch37\"\n",
    "rsid = \"rs429358\""
   ]
  },
  {
   "cell_type": "code",
   "execution_count": 3,
   "metadata": {},
   "outputs": [],
   "source": [
    "request_url = \"https://www.ebi.ac.uk/eva/webservices/rest/v2/identifiers/\"+rsid+\"/variants?species=hsapiens&assembly=\"+assembly+\"\"\n",
    "response = requests.get(request_url)\n",
    "output = response.json()"
   ]
  },
  {
   "cell_type": "markdown",
   "metadata": {},
   "source": [
    "* [Variant_info_API](https://www.ebi.ac.uk/eva/webservices/rest/swagger-ui.html)\n",
    "\n",
    "This cell queries the EVA API (link above) using our input query parameters. The endpoint result can be seen below:"
   ]
  },
  {
   "cell_type": "code",
   "execution_count": 4,
   "metadata": {},
   "outputs": [
    {
     "name": "stdout",
     "output_type": "stream",
     "text": [
      "{u'_embedded': {u'variantList': [{u'end': 45411941, u'reference': u'T', u'alternate': u'C', u'ids': [u'ss1578653635', u'ss782605255', u'ss661874596', u'ss228156553', u'ss1067590770', u'ss80743998', u'ss76884559', u'ss481897219', u'ss491161751', u'ss159740185', u'ss484318107', u'ss713519649', u'ss491549548', u'ss160670648', u'ss132769779', u'ss244239676', u'ss1681037690', u'ss44158325', u'ss870163', u'ss168243995', u'ss537712916', u'ss1693665397', u'ss994339187', u'ss96308980', u'ss974506672', u'ss836101974', u'ss536501696', u'ss410828263', u'ss24811489', u'ss1363326184', u'ss1698394130', u'ss1638043657', u'ss569295', u'ss181341884', u'ss803061', u'ss275517967', u'ss469414605', u'ss2419938', u'ss21518782', u'ss237689596', u'rs429358', u'ss12568607', u'ss483834108', u'ss16231123', u'ss107936537', u'ss780608662'], u'start': 45411941, u'length': 1, u'_links': {u'sources': {u'href': u'http://www.ebi.ac.uk/eva/webservices/rest/v2/variants/19:45411941:T:C/sources?species=hsapiens&assembly=grch37'}, u'annotation': {u'href': u'http://www.ebi.ac.uk/eva/webservices/rest/v2/variants/19:45411941:T:C/annotations?species=hsapiens&assembly=grch37'}}, u'hgvs': {u'genomic': [u'19:g.45411941T>C']}, u'type': u'SNV', u'chromosome': u'19'}]}}\n"
     ]
    }
   ],
   "source": [
    "print(output)"
   ]
  },
  {
   "cell_type": "markdown",
   "metadata": {},
   "source": [
    "As you can see, the output result provides numerous types of information related to our queried variant  \n",
    "We now need to sieve through the output to parse out the information we want"
   ]
  },
  {
   "cell_type": "code",
   "execution_count": 5,
   "metadata": {},
   "outputs": [],
   "source": [
    "chrom = output['_embedded']['variantList'][0]['chromosome']\n",
    "locat = output['_embedded']['variantList'][0]['start']\n",
    "ref = output['_embedded']['variantList'][0]['reference']\n",
    "alt = output['_embedded']['variantList'][0]['alternate']\n",
    "cluster = output['_embedded']['variantList'][0]['ids']"
   ]
  },
  {
   "cell_type": "markdown",
   "metadata": {},
   "source": [
    "The variant location, reference & alternate alleles, as well as the SS IDs have been set to 5 variables (*chrom, locat, ref, alt, clustered*). We can output the result of our query below:"
   ]
  },
  {
   "cell_type": "code",
   "execution_count": 6,
   "metadata": {},
   "outputs": [
    {
     "name": "stdout",
     "output_type": "stream",
     "text": [
      "Variant_location = 19:45411941\n",
      "Reference/Alternate = T/C\n",
      "SS_IDs = [u'ss1578653635', u'ss782605255', u'ss661874596', u'ss228156553', u'ss1067590770', u'ss80743998', u'ss76884559', u'ss481897219', u'ss491161751', u'ss159740185', u'ss484318107', u'ss713519649', u'ss491549548', u'ss160670648', u'ss132769779', u'ss244239676', u'ss1681037690', u'ss44158325', u'ss870163', u'ss168243995', u'ss537712916', u'ss1693665397', u'ss994339187', u'ss96308980', u'ss974506672', u'ss836101974', u'ss536501696', u'ss410828263', u'ss24811489', u'ss1363326184', u'ss1698394130', u'ss1638043657', u'ss569295', u'ss181341884', u'ss803061', u'ss275517967', u'ss469414605', u'ss2419938', u'ss21518782', u'ss237689596', u'rs429358', u'ss12568607', u'ss483834108', u'ss16231123', u'ss107936537', u'ss780608662']\n"
     ]
    }
   ],
   "source": [
    "print ('Variant_location = ', (chrom), \":\", (locat), sep='')\n",
    "print ('Reference/Alternate = ', (ref), \"/\", (alt), sep='')\n",
    "print ('SS_IDs = ', (cluster), sep='')"
   ]
  }
 ],
 "metadata": {
  "kernelspec": {
   "display_name": "Python 2",
   "language": "python",
   "name": "python2"
  },
  "language_info": {
   "codemirror_mode": {
    "name": "ipython",
    "version": 2
   },
   "file_extension": ".py",
   "mimetype": "text/x-python",
   "name": "python",
   "nbconvert_exporter": "python",
   "pygments_lexer": "ipython2",
   "version": "2.7.17"
  }
 },
 "nbformat": 4,
 "nbformat_minor": 2
}
